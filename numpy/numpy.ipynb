{
 "cells": [
  {
   "cell_type": "code",
   "execution_count": 3,
   "metadata": {},
   "outputs": [],
   "source": [
    "import numpy as np"
   ]
  },
  {
   "cell_type": "markdown",
   "metadata": {},
   "source": [
    "Запишем систему уравнений в виде матриц A и B где матрица A состоит из коэффициентов уравнения, а B содержит их решения:\n",
    "$$\n",
    "\\left\\{\\begin{matrix}\n",
    "x_1 + 2x_2 - x_3 = 3,\\newline\n",
    "2x_1 + 5x_2 - 6x_3 = 1,\\\\\n",
    "3x_1 + 8x_2 - 10x_3 = 1;\\\\ \n",
    "\n",
    "\\end{matrix}\\right.\n",
    "\n",
    "\n",
    "$$\n",
    "\t\t\t\t\t"
   ]
  },
  {
   "cell_type": "code",
   "execution_count": 8,
   "metadata": {},
   "outputs": [
    {
     "data": {
      "text/plain": [
       "0.9999999999999994"
      ]
     },
     "execution_count": 8,
     "metadata": {},
     "output_type": "execute_result"
    }
   ],
   "source": [
    "A = np.matrix([[1, 2, -1],[2, 5, -6], [3, 8, -10]])\n",
    "B = np.matrix([3, 1, 1])\n",
    "np.linalg.det(A)\n"
   ]
  },
  {
   "cell_type": "markdown",
   "metadata": {},
   "source": [
    "Алгоритм решения:\n",
    "1. Находим детерминант матрицы A и убеждаемся что он неравен нулю:\n",
    "$$detA \\neq 0 $$\n",
    "\n",
    "2. Находим союзную матрицу $A^\\star$. Cоюзная матрица - это матрица составленная из алгебраических дополнений транспонированной матрицы. Т.е. необходимо выполнить две процедуры над матрицей A:    \n",
    "    - Транспонировать матрицу A;\n",
    "    - Найти алгебраические дополнение транспонированной матрицы\n",
    "3. Находим обратную матрицу по формуле:\n",
    "$$A^{-1}=\\frac{1}{detA} \\times A^\\star $$\n",
    "4. Умножаем обратную матрицу на левую и правую часть выражения:\n",
    "$$\n",
    "A^{-1}\\ast A\\ast X = A^{-1}\\ast B;\\\\\n",
    "EX = A^{-1}B;\\\\\n",
    "X = A^{-1}B\n",
    "$$\n",
    "Где E - единичная матрица"
   ]
  },
  {
   "cell_type": "code",
   "execution_count": 18,
   "metadata": {},
   "outputs": [
    {
     "data": {
      "text/plain": [
       "16.857325087652324"
      ]
     },
     "execution_count": 18,
     "metadata": {},
     "output_type": "execute_result"
    }
   ],
   "source": [
    "import math\n",
    "math.e**(8359/2900)-1"
   ]
  }
 ],
 "metadata": {
  "interpreter": {
   "hash": "7b08bf3cd01773cc2551ad6fc56132757b541253642b9416b0d416138fe266f0"
  },
  "kernelspec": {
   "display_name": "Python 3.9.7 64-bit ('data-scine-class': conda)",
   "name": "python3"
  },
  "language_info": {
   "codemirror_mode": {
    "name": "ipython",
    "version": 3
   },
   "file_extension": ".py",
   "mimetype": "text/x-python",
   "name": "python",
   "nbconvert_exporter": "python",
   "pygments_lexer": "ipython3",
   "version": "3.9.7"
  },
  "orig_nbformat": 4
 },
 "nbformat": 4,
 "nbformat_minor": 2
}
