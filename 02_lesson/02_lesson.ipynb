{
 "cells": [
  {
   "cell_type": "markdown",
   "id": "c4976d3c-5311-436c-a23b-d566b76d0f6f",
   "metadata": {},
   "source": [
    "**Загрузка данных**"
   ]
  },
  {
   "cell_type": "code",
   "execution_count": 1,
   "id": "a86fbe19-5235-421e-b10c-648f7308e4b6",
   "metadata": {
    "tags": []
   },
   "outputs": [],
   "source": [
    "import pandas as pn\n",
    "import numpy as np"
   ]
  },
  {
   "cell_type": "code",
   "execution_count": 37,
   "id": "a662e031-9426-4069-ad84-dcd8cafc7683",
   "metadata": {
    "tags": []
   },
   "outputs": [
    {
     "data": {
      "text/html": [
       "<div>\n",
       "<style scoped>\n",
       "    .dataframe tbody tr th:only-of-type {\n",
       "        vertical-align: middle;\n",
       "    }\n",
       "\n",
       "    .dataframe tbody tr th {\n",
       "        vertical-align: top;\n",
       "    }\n",
       "\n",
       "    .dataframe thead th {\n",
       "        text-align: right;\n",
       "    }\n",
       "</style>\n",
       "<table border=\"1\" class=\"dataframe\">\n",
       "  <thead>\n",
       "    <tr style=\"text-align: right;\">\n",
       "      <th></th>\n",
       "      <th>PassengerId</th>\n",
       "      <th>Survived</th>\n",
       "      <th>Pclass</th>\n",
       "      <th>Name</th>\n",
       "      <th>Sex</th>\n",
       "      <th>Age</th>\n",
       "      <th>SibSp</th>\n",
       "      <th>Parch</th>\n",
       "      <th>Ticket</th>\n",
       "      <th>Fare</th>\n",
       "      <th>Cabin</th>\n",
       "      <th>Embarked</th>\n",
       "    </tr>\n",
       "  </thead>\n",
       "  <tbody>\n",
       "    <tr>\n",
       "      <th>0</th>\n",
       "      <td>1</td>\n",
       "      <td>0</td>\n",
       "      <td>3</td>\n",
       "      <td>Braund, Mr. Owen Harris</td>\n",
       "      <td>male</td>\n",
       "      <td>22.0</td>\n",
       "      <td>1</td>\n",
       "      <td>0</td>\n",
       "      <td>A/5 21171</td>\n",
       "      <td>7.2500</td>\n",
       "      <td>NaN</td>\n",
       "      <td>S</td>\n",
       "    </tr>\n",
       "    <tr>\n",
       "      <th>1</th>\n",
       "      <td>2</td>\n",
       "      <td>1</td>\n",
       "      <td>1</td>\n",
       "      <td>Cumings, Mrs. John Bradley (Florence Briggs Th...</td>\n",
       "      <td>female</td>\n",
       "      <td>38.0</td>\n",
       "      <td>1</td>\n",
       "      <td>0</td>\n",
       "      <td>PC 17599</td>\n",
       "      <td>71.2833</td>\n",
       "      <td>C85</td>\n",
       "      <td>C</td>\n",
       "    </tr>\n",
       "    <tr>\n",
       "      <th>2</th>\n",
       "      <td>3</td>\n",
       "      <td>1</td>\n",
       "      <td>3</td>\n",
       "      <td>Heikkinen, Miss. Laina</td>\n",
       "      <td>female</td>\n",
       "      <td>26.0</td>\n",
       "      <td>0</td>\n",
       "      <td>0</td>\n",
       "      <td>STON/O2. 3101282</td>\n",
       "      <td>7.9250</td>\n",
       "      <td>NaN</td>\n",
       "      <td>S</td>\n",
       "    </tr>\n",
       "    <tr>\n",
       "      <th>3</th>\n",
       "      <td>4</td>\n",
       "      <td>1</td>\n",
       "      <td>1</td>\n",
       "      <td>Futrelle, Mrs. Jacques Heath (Lily May Peel)</td>\n",
       "      <td>female</td>\n",
       "      <td>35.0</td>\n",
       "      <td>1</td>\n",
       "      <td>0</td>\n",
       "      <td>113803</td>\n",
       "      <td>53.1000</td>\n",
       "      <td>C123</td>\n",
       "      <td>S</td>\n",
       "    </tr>\n",
       "    <tr>\n",
       "      <th>4</th>\n",
       "      <td>5</td>\n",
       "      <td>0</td>\n",
       "      <td>3</td>\n",
       "      <td>Allen, Mr. William Henry</td>\n",
       "      <td>male</td>\n",
       "      <td>35.0</td>\n",
       "      <td>0</td>\n",
       "      <td>0</td>\n",
       "      <td>373450</td>\n",
       "      <td>8.0500</td>\n",
       "      <td>NaN</td>\n",
       "      <td>S</td>\n",
       "    </tr>\n",
       "    <tr>\n",
       "      <th>5</th>\n",
       "      <td>6</td>\n",
       "      <td>0</td>\n",
       "      <td>3</td>\n",
       "      <td>Moran, Mr. James</td>\n",
       "      <td>male</td>\n",
       "      <td>NaN</td>\n",
       "      <td>0</td>\n",
       "      <td>0</td>\n",
       "      <td>330877</td>\n",
       "      <td>8.4583</td>\n",
       "      <td>NaN</td>\n",
       "      <td>Q</td>\n",
       "    </tr>\n",
       "    <tr>\n",
       "      <th>6</th>\n",
       "      <td>7</td>\n",
       "      <td>0</td>\n",
       "      <td>1</td>\n",
       "      <td>McCarthy, Mr. Timothy J</td>\n",
       "      <td>male</td>\n",
       "      <td>54.0</td>\n",
       "      <td>0</td>\n",
       "      <td>0</td>\n",
       "      <td>17463</td>\n",
       "      <td>51.8625</td>\n",
       "      <td>E46</td>\n",
       "      <td>S</td>\n",
       "    </tr>\n",
       "    <tr>\n",
       "      <th>7</th>\n",
       "      <td>8</td>\n",
       "      <td>0</td>\n",
       "      <td>3</td>\n",
       "      <td>Palsson, Master. Gosta Leonard</td>\n",
       "      <td>male</td>\n",
       "      <td>2.0</td>\n",
       "      <td>3</td>\n",
       "      <td>1</td>\n",
       "      <td>349909</td>\n",
       "      <td>21.0750</td>\n",
       "      <td>NaN</td>\n",
       "      <td>S</td>\n",
       "    </tr>\n",
       "    <tr>\n",
       "      <th>8</th>\n",
       "      <td>9</td>\n",
       "      <td>1</td>\n",
       "      <td>3</td>\n",
       "      <td>Johnson, Mrs. Oscar W (Elisabeth Vilhelmina Berg)</td>\n",
       "      <td>female</td>\n",
       "      <td>27.0</td>\n",
       "      <td>0</td>\n",
       "      <td>2</td>\n",
       "      <td>347742</td>\n",
       "      <td>11.1333</td>\n",
       "      <td>NaN</td>\n",
       "      <td>S</td>\n",
       "    </tr>\n",
       "    <tr>\n",
       "      <th>9</th>\n",
       "      <td>10</td>\n",
       "      <td>1</td>\n",
       "      <td>2</td>\n",
       "      <td>Nasser, Mrs. Nicholas (Adele Achem)</td>\n",
       "      <td>female</td>\n",
       "      <td>14.0</td>\n",
       "      <td>1</td>\n",
       "      <td>0</td>\n",
       "      <td>237736</td>\n",
       "      <td>30.0708</td>\n",
       "      <td>NaN</td>\n",
       "      <td>C</td>\n",
       "    </tr>\n",
       "    <tr>\n",
       "      <th>10</th>\n",
       "      <td>11</td>\n",
       "      <td>1</td>\n",
       "      <td>3</td>\n",
       "      <td>Sandstrom, Miss. Marguerite Rut</td>\n",
       "      <td>female</td>\n",
       "      <td>4.0</td>\n",
       "      <td>1</td>\n",
       "      <td>1</td>\n",
       "      <td>PP 9549</td>\n",
       "      <td>16.7000</td>\n",
       "      <td>G6</td>\n",
       "      <td>S</td>\n",
       "    </tr>\n",
       "    <tr>\n",
       "      <th>11</th>\n",
       "      <td>12</td>\n",
       "      <td>1</td>\n",
       "      <td>1</td>\n",
       "      <td>Bonnell, Miss. Elizabeth</td>\n",
       "      <td>female</td>\n",
       "      <td>58.0</td>\n",
       "      <td>0</td>\n",
       "      <td>0</td>\n",
       "      <td>113783</td>\n",
       "      <td>26.5500</td>\n",
       "      <td>C103</td>\n",
       "      <td>S</td>\n",
       "    </tr>\n",
       "    <tr>\n",
       "      <th>12</th>\n",
       "      <td>13</td>\n",
       "      <td>0</td>\n",
       "      <td>3</td>\n",
       "      <td>Saundercock, Mr. William Henry</td>\n",
       "      <td>male</td>\n",
       "      <td>20.0</td>\n",
       "      <td>0</td>\n",
       "      <td>0</td>\n",
       "      <td>A/5. 2151</td>\n",
       "      <td>8.0500</td>\n",
       "      <td>NaN</td>\n",
       "      <td>S</td>\n",
       "    </tr>\n",
       "    <tr>\n",
       "      <th>13</th>\n",
       "      <td>14</td>\n",
       "      <td>0</td>\n",
       "      <td>3</td>\n",
       "      <td>Andersson, Mr. Anders Johan</td>\n",
       "      <td>male</td>\n",
       "      <td>39.0</td>\n",
       "      <td>1</td>\n",
       "      <td>5</td>\n",
       "      <td>347082</td>\n",
       "      <td>31.2750</td>\n",
       "      <td>NaN</td>\n",
       "      <td>S</td>\n",
       "    </tr>\n",
       "    <tr>\n",
       "      <th>14</th>\n",
       "      <td>15</td>\n",
       "      <td>0</td>\n",
       "      <td>3</td>\n",
       "      <td>Vestrom, Miss. Hulda Amanda Adolfina</td>\n",
       "      <td>female</td>\n",
       "      <td>14.0</td>\n",
       "      <td>0</td>\n",
       "      <td>0</td>\n",
       "      <td>350406</td>\n",
       "      <td>7.8542</td>\n",
       "      <td>NaN</td>\n",
       "      <td>S</td>\n",
       "    </tr>\n",
       "    <tr>\n",
       "      <th>15</th>\n",
       "      <td>16</td>\n",
       "      <td>1</td>\n",
       "      <td>2</td>\n",
       "      <td>Hewlett, Mrs. (Mary D Kingcome)</td>\n",
       "      <td>female</td>\n",
       "      <td>55.0</td>\n",
       "      <td>0</td>\n",
       "      <td>0</td>\n",
       "      <td>248706</td>\n",
       "      <td>16.0000</td>\n",
       "      <td>NaN</td>\n",
       "      <td>S</td>\n",
       "    </tr>\n",
       "    <tr>\n",
       "      <th>16</th>\n",
       "      <td>17</td>\n",
       "      <td>0</td>\n",
       "      <td>3</td>\n",
       "      <td>Rice, Master. Eugene</td>\n",
       "      <td>male</td>\n",
       "      <td>2.0</td>\n",
       "      <td>4</td>\n",
       "      <td>1</td>\n",
       "      <td>382652</td>\n",
       "      <td>29.1250</td>\n",
       "      <td>NaN</td>\n",
       "      <td>Q</td>\n",
       "    </tr>\n",
       "    <tr>\n",
       "      <th>17</th>\n",
       "      <td>18</td>\n",
       "      <td>1</td>\n",
       "      <td>2</td>\n",
       "      <td>Williams, Mr. Charles Eugene</td>\n",
       "      <td>male</td>\n",
       "      <td>NaN</td>\n",
       "      <td>0</td>\n",
       "      <td>0</td>\n",
       "      <td>244373</td>\n",
       "      <td>13.0000</td>\n",
       "      <td>NaN</td>\n",
       "      <td>S</td>\n",
       "    </tr>\n",
       "    <tr>\n",
       "      <th>18</th>\n",
       "      <td>19</td>\n",
       "      <td>0</td>\n",
       "      <td>3</td>\n",
       "      <td>Vander Planke, Mrs. Julius (Emelia Maria Vande...</td>\n",
       "      <td>female</td>\n",
       "      <td>31.0</td>\n",
       "      <td>1</td>\n",
       "      <td>0</td>\n",
       "      <td>345763</td>\n",
       "      <td>18.0000</td>\n",
       "      <td>NaN</td>\n",
       "      <td>S</td>\n",
       "    </tr>\n",
       "    <tr>\n",
       "      <th>19</th>\n",
       "      <td>20</td>\n",
       "      <td>1</td>\n",
       "      <td>3</td>\n",
       "      <td>Masselmani, Mrs. Fatima</td>\n",
       "      <td>female</td>\n",
       "      <td>NaN</td>\n",
       "      <td>0</td>\n",
       "      <td>0</td>\n",
       "      <td>2649</td>\n",
       "      <td>7.2250</td>\n",
       "      <td>NaN</td>\n",
       "      <td>C</td>\n",
       "    </tr>\n",
       "  </tbody>\n",
       "</table>\n",
       "</div>"
      ],
      "text/plain": [
       "    PassengerId  Survived  Pclass  \\\n",
       "0             1         0       3   \n",
       "1             2         1       1   \n",
       "2             3         1       3   \n",
       "3             4         1       1   \n",
       "4             5         0       3   \n",
       "5             6         0       3   \n",
       "6             7         0       1   \n",
       "7             8         0       3   \n",
       "8             9         1       3   \n",
       "9            10         1       2   \n",
       "10           11         1       3   \n",
       "11           12         1       1   \n",
       "12           13         0       3   \n",
       "13           14         0       3   \n",
       "14           15         0       3   \n",
       "15           16         1       2   \n",
       "16           17         0       3   \n",
       "17           18         1       2   \n",
       "18           19         0       3   \n",
       "19           20         1       3   \n",
       "\n",
       "                                                 Name     Sex   Age  SibSp  \\\n",
       "0                             Braund, Mr. Owen Harris    male  22.0      1   \n",
       "1   Cumings, Mrs. John Bradley (Florence Briggs Th...  female  38.0      1   \n",
       "2                              Heikkinen, Miss. Laina  female  26.0      0   \n",
       "3        Futrelle, Mrs. Jacques Heath (Lily May Peel)  female  35.0      1   \n",
       "4                            Allen, Mr. William Henry    male  35.0      0   \n",
       "5                                    Moran, Mr. James    male   NaN      0   \n",
       "6                             McCarthy, Mr. Timothy J    male  54.0      0   \n",
       "7                      Palsson, Master. Gosta Leonard    male   2.0      3   \n",
       "8   Johnson, Mrs. Oscar W (Elisabeth Vilhelmina Berg)  female  27.0      0   \n",
       "9                 Nasser, Mrs. Nicholas (Adele Achem)  female  14.0      1   \n",
       "10                    Sandstrom, Miss. Marguerite Rut  female   4.0      1   \n",
       "11                           Bonnell, Miss. Elizabeth  female  58.0      0   \n",
       "12                     Saundercock, Mr. William Henry    male  20.0      0   \n",
       "13                        Andersson, Mr. Anders Johan    male  39.0      1   \n",
       "14               Vestrom, Miss. Hulda Amanda Adolfina  female  14.0      0   \n",
       "15                   Hewlett, Mrs. (Mary D Kingcome)   female  55.0      0   \n",
       "16                               Rice, Master. Eugene    male   2.0      4   \n",
       "17                       Williams, Mr. Charles Eugene    male   NaN      0   \n",
       "18  Vander Planke, Mrs. Julius (Emelia Maria Vande...  female  31.0      1   \n",
       "19                            Masselmani, Mrs. Fatima  female   NaN      0   \n",
       "\n",
       "    Parch            Ticket     Fare Cabin Embarked  \n",
       "0       0         A/5 21171   7.2500   NaN        S  \n",
       "1       0          PC 17599  71.2833   C85        C  \n",
       "2       0  STON/O2. 3101282   7.9250   NaN        S  \n",
       "3       0            113803  53.1000  C123        S  \n",
       "4       0            373450   8.0500   NaN        S  \n",
       "5       0            330877   8.4583   NaN        Q  \n",
       "6       0             17463  51.8625   E46        S  \n",
       "7       1            349909  21.0750   NaN        S  \n",
       "8       2            347742  11.1333   NaN        S  \n",
       "9       0            237736  30.0708   NaN        C  \n",
       "10      1           PP 9549  16.7000    G6        S  \n",
       "11      0            113783  26.5500  C103        S  \n",
       "12      0         A/5. 2151   8.0500   NaN        S  \n",
       "13      5            347082  31.2750   NaN        S  \n",
       "14      0            350406   7.8542   NaN        S  \n",
       "15      0            248706  16.0000   NaN        S  \n",
       "16      1            382652  29.1250   NaN        Q  \n",
       "17      0            244373  13.0000   NaN        S  \n",
       "18      0            345763  18.0000   NaN        S  \n",
       "19      0              2649   7.2250   NaN        C  "
      ]
     },
     "execution_count": 37,
     "metadata": {},
     "output_type": "execute_result"
    }
   ],
   "source": [
    "titanic = pn.read_csv('./titanic/train.csv')\n",
    "titanic.head(20)"
   ]
  },
  {
   "cell_type": "markdown",
   "id": "f3f54999-694d-42a2-99db-996d41466cdb",
   "metadata": {},
   "source": [
    "**Решение Easy**"
   ]
  },
  {
   "cell_type": "code",
   "execution_count": 3,
   "id": "af2972ab-e66c-4565-a41d-04bdf91d6212",
   "metadata": {
    "tags": []
   },
   "outputs": [],
   "source": [
    "countAllPassangers = titanic['PassengerId'].count()"
   ]
  },
  {
   "cell_type": "code",
   "execution_count": 4,
   "id": "d49d181a-2742-47a1-a77d-e5f20536af89",
   "metadata": {
    "tags": []
   },
   "outputs": [
    {
     "name": "stdout",
     "output_type": "stream",
     "text": [
      "Количество мужчин на борту судна, включая детей:  577 ( 64.76% )\n",
      "Количество женщин на борту судна, включая детей:  314 ( 35.24% )\n",
      "Количество  детей (пассажиров не достигших 18 лет):  113 ( 12.68% )\n"
     ]
    }
   ],
   "source": [
    "countMalePassengers = titanic[titanic['Sex'] == 'male']['PassengerId'].count()\n",
    "countFemalePassengers = titanic[titanic['Sex'] == 'female']['PassengerId'].count()\n",
    "percentMalePassengers = countMalePassengers / countAllPassangers\n",
    "percentFemalePassengers = countFemalePassengers / countAllPassangers\n",
    "countSmallPassengers = titanic[titanic['Age'] < 18]['PassengerId'].count()\n",
    "percentSmallPassengers = countSmallPassengers / countAllPassangers\n",
    "print('Количество мужчин на борту судна, включая детей: ', countMalePassengers, '(', f'{percentMalePassengers:0.2%}', ')' )\n",
    "print('Количество женщин на борту судна, включая детей: ', countFemalePassengers, '(', f'{percentFemalePassengers:0.2%}', ')' )\n",
    "print('Количество  детей (пассажиров не достигших 18 лет): ', countSmallPassengers, '(', f'{percentSmallPassengers:0.2%}', ')')"
   ]
  },
  {
   "cell_type": "markdown",
   "id": "d2a9e52a-8c91-440e-83f2-a0c4190d8d58",
   "metadata": {},
   "source": [
    "**Решение Medium**"
   ]
  },
  {
   "cell_type": "markdown",
   "id": "af607811-3386-46a9-b259-b86cfcc09da7",
   "metadata": {},
   "source": [
    "Гистограмма распределение пассажиров по возрастам"
   ]
  },
  {
   "cell_type": "code",
   "execution_count": 5,
   "id": "bf08fca8-11a6-4857-936a-3dac8a904c04",
   "metadata": {},
   "outputs": [
    {
     "data": {
      "image/png": "[encoded data removed]",
      "text/plain": [
       "<Figure size 432x288 with 1 Axes>"
      ]
     },
     "metadata": {
      "needs_background": "light"
     },
     "output_type": "display_data"
    }
   ],
   "source": [
    "plot = titanic.hist(column=['Age'], bins = 100)"
   ]
  },
  {
   "cell_type": "markdown",
   "id": "c2611f85-a2a3-4883-a8eb-9822fe68c1f7",
   "metadata": {},
   "source": [
    "Работа с NaN"
   ]
  },
  {
   "cell_type": "code",
   "execution_count": 6,
   "id": "5d372cf2-0b37-4874-b4e6-a4244317f286",
   "metadata": {},
   "outputs": [
    {
     "name": "stdout",
     "output_type": "stream",
     "text": [
      "Value Cabin[0]:  nan\n",
      "Is float nan: False\n",
      "Is numpy nan: True\n",
      "Is numpy nan: False\n"
     ]
    }
   ],
   "source": [
    "titanic['Cabin'][0]\n",
    "np.isnan(titanic['Cabin'][0])\n",
    "print('Value Cabin[0]: ', titanic['Cabin'][0])\n",
    "print(\"Is float nan:\", float('nan') == titanic['Cabin'][0])\n",
    "print(\"Is numpy nan:\", np.isnan(titanic['Cabin'][0]))\n",
    "print(\"Is numpy nan:\", titanic['Cabin'][0] == np.nan)"
   ]
  },
  {
   "cell_type": "markdown",
   "id": "8c5d3227-3357-46bb-af02-679febfe7479",
   "metadata": {},
   "source": [
    "Поиск отсутствующих данных"
   ]
  },
  {
   "cell_type": "code",
   "execution_count": 7,
   "id": "df520fa0-21b9-4d8c-9718-e559f221a92d",
   "metadata": {},
   "outputs": [
    {
     "data": {
      "text/html": [
       "<div>\n",
       "<style scoped>\n",
       "    .dataframe tbody tr th:only-of-type {\n",
       "        vertical-align: middle;\n",
       "    }\n",
       "\n",
       "    .dataframe tbody tr th {\n",
       "        vertical-align: top;\n",
       "    }\n",
       "\n",
       "    .dataframe thead th {\n",
       "        text-align: right;\n",
       "    }\n",
       "</style>\n",
       "<table border=\"1\" class=\"dataframe\">\n",
       "  <thead>\n",
       "    <tr style=\"text-align: right;\">\n",
       "      <th></th>\n",
       "      <th>Total Records</th>\n",
       "      <th>Missing Records</th>\n",
       "      <th>Data Complete, %</th>\n",
       "    </tr>\n",
       "  </thead>\n",
       "  <tbody>\n",
       "    <tr>\n",
       "      <th>PassengerId</th>\n",
       "      <td>891</td>\n",
       "      <td>0</td>\n",
       "      <td>100.00</td>\n",
       "    </tr>\n",
       "    <tr>\n",
       "      <th>Survived</th>\n",
       "      <td>891</td>\n",
       "      <td>0</td>\n",
       "      <td>100.00</td>\n",
       "    </tr>\n",
       "    <tr>\n",
       "      <th>Pclass</th>\n",
       "      <td>891</td>\n",
       "      <td>0</td>\n",
       "      <td>100.00</td>\n",
       "    </tr>\n",
       "    <tr>\n",
       "      <th>Name</th>\n",
       "      <td>891</td>\n",
       "      <td>0</td>\n",
       "      <td>100.00</td>\n",
       "    </tr>\n",
       "    <tr>\n",
       "      <th>Sex</th>\n",
       "      <td>891</td>\n",
       "      <td>0</td>\n",
       "      <td>100.00</td>\n",
       "    </tr>\n",
       "    <tr>\n",
       "      <th>Age</th>\n",
       "      <td>714</td>\n",
       "      <td>177</td>\n",
       "      <td>80.13</td>\n",
       "    </tr>\n",
       "    <tr>\n",
       "      <th>SibSp</th>\n",
       "      <td>891</td>\n",
       "      <td>0</td>\n",
       "      <td>100.00</td>\n",
       "    </tr>\n",
       "    <tr>\n",
       "      <th>Parch</th>\n",
       "      <td>891</td>\n",
       "      <td>0</td>\n",
       "      <td>100.00</td>\n",
       "    </tr>\n",
       "    <tr>\n",
       "      <th>Ticket</th>\n",
       "      <td>891</td>\n",
       "      <td>0</td>\n",
       "      <td>100.00</td>\n",
       "    </tr>\n",
       "    <tr>\n",
       "      <th>Fare</th>\n",
       "      <td>891</td>\n",
       "      <td>0</td>\n",
       "      <td>100.00</td>\n",
       "    </tr>\n",
       "    <tr>\n",
       "      <th>Cabin</th>\n",
       "      <td>204</td>\n",
       "      <td>687</td>\n",
       "      <td>22.90</td>\n",
       "    </tr>\n",
       "    <tr>\n",
       "      <th>Embarked</th>\n",
       "      <td>889</td>\n",
       "      <td>2</td>\n",
       "      <td>99.78</td>\n",
       "    </tr>\n",
       "  </tbody>\n",
       "</table>\n",
       "</div>"
      ],
      "text/plain": [
       "             Total Records  Missing Records  Data Complete, %\n",
       "PassengerId            891                0            100.00\n",
       "Survived               891                0            100.00\n",
       "Pclass                 891                0            100.00\n",
       "Name                   891                0            100.00\n",
       "Sex                    891                0            100.00\n",
       "Age                    714              177             80.13\n",
       "SibSp                  891                0            100.00\n",
       "Parch                  891                0            100.00\n",
       "Ticket                 891                0            100.00\n",
       "Fare                   891                0            100.00\n",
       "Cabin                  204              687             22.90\n",
       "Embarked               889                2             99.78"
      ]
     },
     "execution_count": 7,
     "metadata": {},
     "output_type": "execute_result"
    }
   ],
   "source": [
    "missingRecords = pn.DataFrame({'Total Records' : titanic.count()})\n",
    "fullRecordsCount = titanic.count().max()\n",
    "missingDataSeries = titanic.count().apply(lambda qty: fullRecordsCount-qty)\n",
    "missingRecords['Missing Records'] = missingDataSeries\n",
    "missingRecords['Data Complete, %'] = 100 - (round(missingRecords['Missing Records'] / fullRecordsCount * 100, 2))\n",
    "missingRecords"
   ]
  },
  {
   "cell_type": "code",
   "execution_count": 8,
   "id": "60ea44f3-cbd8-4827-a57c-12fd2a7f4e0b",
   "metadata": {},
   "outputs": [
    {
     "data": {
      "text/html": [
       "<div>\n",
       "<style scoped>\n",
       "    .dataframe tbody tr th:only-of-type {\n",
       "        vertical-align: middle;\n",
       "    }\n",
       "\n",
       "    .dataframe tbody tr th {\n",
       "        vertical-align: top;\n",
       "    }\n",
       "\n",
       "    .dataframe thead th {\n",
       "        text-align: right;\n",
       "    }\n",
       "</style>\n",
       "<table border=\"1\" class=\"dataframe\">\n",
       "  <thead>\n",
       "    <tr style=\"text-align: right;\">\n",
       "      <th></th>\n",
       "      <th>Всего</th>\n",
       "      <th>Выжило</th>\n",
       "      <th>% выживших в группе</th>\n",
       "      <th>% выживших от общего числа</th>\n",
       "    </tr>\n",
       "  </thead>\n",
       "  <tbody>\n",
       "    <tr>\n",
       "      <th>Мужчины</th>\n",
       "      <td>577</td>\n",
       "      <td>109</td>\n",
       "      <td>18.89</td>\n",
       "      <td>12.23</td>\n",
       "    </tr>\n",
       "    <tr>\n",
       "      <th>Женщины</th>\n",
       "      <td>314</td>\n",
       "      <td>233</td>\n",
       "      <td>74.20</td>\n",
       "      <td>26.15</td>\n",
       "    </tr>\n",
       "    <tr>\n",
       "      <th>Дети</th>\n",
       "      <td>113</td>\n",
       "      <td>61</td>\n",
       "      <td>53.98</td>\n",
       "      <td>6.85</td>\n",
       "    </tr>\n",
       "  </tbody>\n",
       "</table>\n",
       "</div>"
      ],
      "text/plain": [
       "         Всего  Выжило  % выживших в группе  % выживших от общего числа\n",
       "Мужчины    577     109                18.89                       12.23\n",
       "Женщины    314     233                74.20                       26.15\n",
       "Дети       113      61                53.98                        6.85"
      ]
     },
     "execution_count": 8,
     "metadata": {},
     "output_type": "execute_result"
    }
   ],
   "source": [
    "seriesCount = pn.Series({'Мужчины' : countMalePassengers, 'Женщины' : countFemalePassengers, 'Дети' : countSmallPassengers})\n",
    "survivorsPassengers = titanic[titanic['Survived'] == 1]\n",
    "survivorsChildCount = survivorsPassengers[survivorsPassengers['Age'] < 18]['PassengerId'].count()\n",
    "survivorsMaleCount = survivorsPassengers[survivorsPassengers['Sex']== 'male']['PassengerId'].count()\n",
    "survivorsFemaleCount = survivorsPassengers[survivorsPassengers['Sex']== 'female']['PassengerId'].count()\n",
    "seriesSurvors = pn.Series({'Мужчины' : survivorsMaleCount, 'Женщины' : survivorsFemaleCount, 'Дети' : survivorsChildCount})\n",
    "percentSurvorsInGroup = seriesSurvors / seriesCount\n",
    "percentSurvorsInAll = seriesSurvors / countAllPassangers\n",
    "#seriesNames = pn.Series(['Всего', 'Выжило'])\n",
    "survorsTable = pn.DataFrame({'Всего' : seriesCount})\n",
    "survorsTable['Выжило'] = seriesSurvors\n",
    "survorsTable['% выживших в группе'] = round(percentSurvorsInGroup * 100, 2)\n",
    "survorsTable['% выживших от общего числа'] = round(percentSurvorsInAll * 100, 2)\n",
    "survorsTable"
   ]
  },
  {
   "cell_type": "markdown",
   "id": "96507c53-51f5-4215-9680-cbabca2e0ded",
   "metadata": {},
   "source": [
    "Корреляция выживаемости в зависимости от возраста"
   ]
  },
  {
   "cell_type": "code",
   "execution_count": 9,
   "id": "345da86b-9785-4fdc-9d1d-5f0730de6896",
   "metadata": {},
   "outputs": [
    {
     "data": {
      "text/plain": [
       "-0.07722109457217763"
      ]
     },
     "execution_count": 9,
     "metadata": {},
     "output_type": "execute_result"
    }
   ],
   "source": [
    "titanic['Age'].corr(titanic['Survived'])"
   ]
  },
  {
   "cell_type": "markdown",
   "id": "f2fb54f0-36ee-44c8-b349-eba6d3096394",
   "metadata": {},
   "source": [
    "Корреляция выживаемости в зависимости от того, являлся пассажир ребенком или нет"
   ]
  },
  {
   "cell_type": "code",
   "execution_count": 10,
   "id": "600618ca-8996-4a47-ba42-15fd5f99d770",
   "metadata": {},
   "outputs": [
    {
     "data": {
      "text/plain": [
       "0.12223897377570021"
      ]
     },
     "execution_count": 10,
     "metadata": {},
     "output_type": "execute_result"
    }
   ],
   "source": [
    "titanic['IsChild'] = titanic['Age'] < 18\n",
    "titanic['IsChild'].corr(titanic['Survived'])"
   ]
  },
  {
   "cell_type": "markdown",
   "id": "8ce248cc-8dfe-4f6e-ab03-188619ba484c",
   "metadata": {},
   "source": [
    "Корреляция зависимости выживаемости от пола пассажира"
   ]
  },
  {
   "cell_type": "code",
   "execution_count": 11,
   "id": "a0bed270-0749-48fc-8342-fe86eca63c7f",
   "metadata": {},
   "outputs": [
    {
     "data": {
      "text/plain": [
       "-0.5433513806577551"
      ]
     },
     "execution_count": 11,
     "metadata": {},
     "output_type": "execute_result"
    }
   ],
   "source": [
    "(titanic['Sex'] == 'male').corr(titanic['Survived'])"
   ]
  },
  {
   "cell_type": "markdown",
   "metadata": {},
   "source": [
    "Корреляция зависимости выживаемости от класса пассажира"
   ]
  },
  {
   "cell_type": "code",
   "execution_count": 12,
   "id": "7243db0e-1cd9-4eee-a7a4-dcd19913af85",
   "metadata": {},
   "outputs": [
    {
     "data": {
      "text/plain": [
       "-0.3384810359610153"
      ]
     },
     "execution_count": 12,
     "metadata": {},
     "output_type": "execute_result"
    }
   ],
   "source": [
    "\n",
    "titanic['Pclass'].corr(titanic['Survived'])"
   ]
  },
  {
   "cell_type": "markdown",
   "id": "d7fde4b4-bcb6-4c57-8032-4c84f1beda10",
   "metadata": {},
   "source": [
    "**Решение Hard**"
   ]
  },
  {
   "cell_type": "markdown",
   "metadata": {},
   "source": [
    "Создадим функции, расчитывающую количество пассажиров по классам их билетов"
   ]
  },
  {
   "cell_type": "code",
   "execution_count": 13,
   "metadata": {},
   "outputs": [],
   "source": [
    "def countByClass(titanic, pclass):\n",
    "    if pclass == 0:\n",
    "        return titanic.PassengerId.count()\n",
    "    return titanic[titanic.Pclass == pclass].PassengerId.count()\n",
    "def createSeriesClass(titanic):\n",
    "    ser = []\n",
    "    for x in range(4):\n",
    "        ser.append(countByClass(titanic, x))\n",
    "    return ser"
   ]
  },
  {
   "cell_type": "markdown",
   "metadata": {},
   "source": [
    "Создадим функцию формирующую сводную таблицу выживаемости по мужчинам или женщинам, в зависимости от аргумента 'sex' и класса билета пассажира."
   ]
  },
  {
   "cell_type": "code",
   "execution_count": 86,
   "metadata": {},
   "outputs": [],
   "source": [
    "def createSurvivedTable(customTitanic, sex):\n",
    "    resultTable = pn.DataFrame(pn.Series([sex + ' total', sex + ' 1-st class', sex + ' 2-st class', sex + ' 3-th class']))\n",
    "    titanicSex = customTitanic[customTitanic.Sex == sex]\n",
    "    resultTable['Total'] = pn.Series(createSeriesClass(titanicSex))\n",
    "    resultTable['Survived'] = pn.Series(createSeriesClass(titanicSex[titanicSex['Survived'] == 1]))\n",
    "    resultTable['Survived %'] = (resultTable['Survived'] / resultTable['Total']) * 100\n",
    "    return resultTable"
   ]
  },
  {
   "cell_type": "markdown",
   "metadata": {},
   "source": [
    "Создадим таблицу мужчин по классам их билетов и рассчитам процент выживаемости для каждой категории"
   ]
  },
  {
   "cell_type": "code",
   "execution_count": 104,
   "metadata": {},
   "outputs": [
    {
     "data": {
      "text/html": [
       "<div>\n",
       "<style scoped>\n",
       "    .dataframe tbody tr th:only-of-type {\n",
       "        vertical-align: middle;\n",
       "    }\n",
       "\n",
       "    .dataframe tbody tr th {\n",
       "        vertical-align: top;\n",
       "    }\n",
       "\n",
       "    .dataframe thead th {\n",
       "        text-align: right;\n",
       "    }\n",
       "</style>\n",
       "<table border=\"1\" class=\"dataframe\">\n",
       "  <thead>\n",
       "    <tr style=\"text-align: right;\">\n",
       "      <th></th>\n",
       "      <th>0</th>\n",
       "      <th>Total</th>\n",
       "      <th>Survived</th>\n",
       "      <th>Survived %</th>\n",
       "    </tr>\n",
       "  </thead>\n",
       "  <tbody>\n",
       "    <tr>\n",
       "      <th>0</th>\n",
       "      <td>male total</td>\n",
       "      <td>577</td>\n",
       "      <td>109</td>\n",
       "      <td>18.890815</td>\n",
       "    </tr>\n",
       "    <tr>\n",
       "      <th>1</th>\n",
       "      <td>male 1-st class</td>\n",
       "      <td>122</td>\n",
       "      <td>45</td>\n",
       "      <td>36.885246</td>\n",
       "    </tr>\n",
       "    <tr>\n",
       "      <th>2</th>\n",
       "      <td>male 2-st class</td>\n",
       "      <td>108</td>\n",
       "      <td>17</td>\n",
       "      <td>15.740741</td>\n",
       "    </tr>\n",
       "    <tr>\n",
       "      <th>3</th>\n",
       "      <td>male 3-th class</td>\n",
       "      <td>347</td>\n",
       "      <td>47</td>\n",
       "      <td>13.544669</td>\n",
       "    </tr>\n",
       "  </tbody>\n",
       "</table>\n",
       "</div>"
      ],
      "text/plain": [
       "                 0  Total  Survived  Survived %\n",
       "0       male total    577       109   18.890815\n",
       "1  male 1-st class    122        45   36.885246\n",
       "2  male 2-st class    108        17   15.740741\n",
       "3  male 3-th class    347        47   13.544669"
      ]
     },
     "execution_count": 104,
     "metadata": {},
     "output_type": "execute_result"
    }
   ],
   "source": [
    "tf = titanic[titanic.Sex == 'male']\n",
    "maleSurvived = createSurvivedTable(tf, 'male')\n",
    "maleSurvived"
   ]
  },
  {
   "cell_type": "markdown",
   "metadata": {},
   "source": [
    "Не зависимо от класса проезда, процент выживаемости мужчин меньше 50%. Лучшим предсказанием будет в этом случае считать любого мужчину погибшим"
   ]
  },
  {
   "cell_type": "markdown",
   "metadata": {},
   "source": [
    "Создадим аналогичную сводную таблицу выживаемости у женщин, в зависимости от их класса билета"
   ]
  },
  {
   "cell_type": "code",
   "execution_count": 103,
   "metadata": {},
   "outputs": [
    {
     "data": {
      "text/html": [
       "<div>\n",
       "<style scoped>\n",
       "    .dataframe tbody tr th:only-of-type {\n",
       "        vertical-align: middle;\n",
       "    }\n",
       "\n",
       "    .dataframe tbody tr th {\n",
       "        vertical-align: top;\n",
       "    }\n",
       "\n",
       "    .dataframe thead th {\n",
       "        text-align: right;\n",
       "    }\n",
       "</style>\n",
       "<table border=\"1\" class=\"dataframe\">\n",
       "  <thead>\n",
       "    <tr style=\"text-align: right;\">\n",
       "      <th></th>\n",
       "      <th>0</th>\n",
       "      <th>Total</th>\n",
       "      <th>Survived</th>\n",
       "      <th>Survived %</th>\n",
       "    </tr>\n",
       "  </thead>\n",
       "  <tbody>\n",
       "    <tr>\n",
       "      <th>0</th>\n",
       "      <td>female total</td>\n",
       "      <td>314</td>\n",
       "      <td>233</td>\n",
       "      <td>74.203822</td>\n",
       "    </tr>\n",
       "    <tr>\n",
       "      <th>1</th>\n",
       "      <td>female 1-st class</td>\n",
       "      <td>94</td>\n",
       "      <td>91</td>\n",
       "      <td>96.808511</td>\n",
       "    </tr>\n",
       "    <tr>\n",
       "      <th>2</th>\n",
       "      <td>female 2-st class</td>\n",
       "      <td>76</td>\n",
       "      <td>70</td>\n",
       "      <td>92.105263</td>\n",
       "    </tr>\n",
       "    <tr>\n",
       "      <th>3</th>\n",
       "      <td>female 3-th class</td>\n",
       "      <td>144</td>\n",
       "      <td>72</td>\n",
       "      <td>50.000000</td>\n",
       "    </tr>\n",
       "  </tbody>\n",
       "</table>\n",
       "</div>"
      ],
      "text/plain": [
       "                   0  Total  Survived  Survived %\n",
       "0       female total    314       233   74.203822\n",
       "1  female 1-st class     94        91   96.808511\n",
       "2  female 2-st class     76        70   92.105263\n",
       "3  female 3-th class    144        72   50.000000"
      ]
     },
     "execution_count": 103,
     "metadata": {},
     "output_type": "execute_result"
    }
   ],
   "source": [
    "tf = titanic[titanic.Sex == 'female']\n",
    "femaleSurvived = createSurvivedTable(tf, 'female')\n",
    "femaleSurvived"
   ]
  },
  {
   "cell_type": "markdown",
   "metadata": {},
   "source": [
    "Выживаемость женщин в первых двух классах существенно выше 50%. Лучшим предсказанием для этих групп будет выживаемость.\n",
    "Найдем дополнительный предиктор для женщин с билетами третьего класса. Например возраст:"
   ]
  },
  {
   "cell_type": "code",
   "execution_count": 108,
   "metadata": {},
   "outputs": [
    {
     "data": {
      "text/html": [
       "<div>\n",
       "<style scoped>\n",
       "    .dataframe tbody tr th:only-of-type {\n",
       "        vertical-align: middle;\n",
       "    }\n",
       "\n",
       "    .dataframe tbody tr th {\n",
       "        vertical-align: top;\n",
       "    }\n",
       "\n",
       "    .dataframe thead th {\n",
       "        text-align: right;\n",
       "    }\n",
       "</style>\n",
       "<table border=\"1\" class=\"dataframe\">\n",
       "  <thead>\n",
       "    <tr style=\"text-align: right;\">\n",
       "      <th></th>\n",
       "      <th>0</th>\n",
       "      <th>Total</th>\n",
       "      <th>Survived</th>\n",
       "      <th>Survived %</th>\n",
       "    </tr>\n",
       "  </thead>\n",
       "  <tbody>\n",
       "    <tr>\n",
       "      <th>0</th>\n",
       "      <td>female total</td>\n",
       "      <td>48</td>\n",
       "      <td>37</td>\n",
       "      <td>77.083333</td>\n",
       "    </tr>\n",
       "    <tr>\n",
       "      <th>1</th>\n",
       "      <td>female 1-st class</td>\n",
       "      <td>26</td>\n",
       "      <td>25</td>\n",
       "      <td>96.153846</td>\n",
       "    </tr>\n",
       "    <tr>\n",
       "      <th>2</th>\n",
       "      <td>female 2-st class</td>\n",
       "      <td>13</td>\n",
       "      <td>11</td>\n",
       "      <td>84.615385</td>\n",
       "    </tr>\n",
       "    <tr>\n",
       "      <th>3</th>\n",
       "      <td>female 3-th class</td>\n",
       "      <td>9</td>\n",
       "      <td>1</td>\n",
       "      <td>11.111111</td>\n",
       "    </tr>\n",
       "  </tbody>\n",
       "</table>\n",
       "</div>"
      ],
      "text/plain": [
       "                   0  Total  Survived  Survived %\n",
       "0       female total     48        37   77.083333\n",
       "1  female 1-st class     26        25   96.153846\n",
       "2  female 2-st class     13        11   84.615385\n",
       "3  female 3-th class      9         1   11.111111"
      ]
     },
     "execution_count": 108,
     "metadata": {},
     "output_type": "execute_result"
    }
   ],
   "source": [
    "tf = titanic[titanic.Sex == 'female']\n",
    "femaleSurvived = createSurvivedTable(tf, 'female')\n",
    "femaleSurvived = createSurvivedTable(tf[(tf.Age > 40) & (tf.Age < 90)], 'female')\n",
    "femaleSurvived"
   ]
  },
  {
   "cell_type": "markdown",
   "metadata": {},
   "source": [
    "Выживаемость женщин старшего возраста в третьем классе составляет 11 процентов, в то время как в другх классах возраст женщин практически не влияет на выживаемость, она остается высокой для этих классов."
   ]
  },
  {
   "cell_type": "markdown",
   "metadata": {},
   "source": [
    "Создадим итоговую модель"
   ]
  },
  {
   "cell_type": "code",
   "execution_count": 132,
   "metadata": {},
   "outputs": [],
   "source": [
    "titanicTest = pn.read_csv('./titanic/test.csv')"
   ]
  },
  {
   "cell_type": "code",
   "execution_count": 142,
   "metadata": {},
   "outputs": [],
   "source": [
    "def survived(series):\n",
    "    if series['Sex'] == 'male':\n",
    "        return 0\n",
    "    if series['Pclass'] != 3:\n",
    "        return  1\n",
    "    if series['Age'] > 40:\n",
    "        return 0\n",
    "    return 1\n",
    "sur = []\n",
    "for index, row in titanicTest.iterrows():\n",
    "    sur.append(survived(row))\n",
    "survivedForecast = pn.Series(sur)\n",
    "titanicTest['Survived'] = pn.Series(sur)\n",
    "model = pn.DataFrame(titanicTest.PassengerId)\n",
    "model['Survived'] = titanicTest['Survived'];\n",
    "model.to_csv('./titanic/model.csv', index = False)"
   ]
  }
 ],
 "metadata": {
  "interpreter": {
   "hash": "7b08bf3cd01773cc2551ad6fc56132757b541253642b9416b0d416138fe266f0"
  },
  "kernelspec": {
   "display_name": "Python 3.9.7 64-bit ('data-scine-class': conda)",
   "name": "python3"
  },
  "language_info": {
   "codemirror_mode": {
    "name": "ipython",
    "version": 3
   },
   "file_extension": ".py",
   "mimetype": "text/x-python",
   "name": "python",
   "nbconvert_exporter": "python",
   "pygments_lexer": "ipython3",
   "version": "3.9.7"
  },
  "toc-autonumbering": false,
  "toc-showcode": false,
  "toc-showmarkdowntxt": false
 },
 "nbformat": 4,
 "nbformat_minor": 5
}
