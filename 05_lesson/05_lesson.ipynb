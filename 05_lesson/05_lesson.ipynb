{
 "cells": [
  {
   "cell_type": "markdown",
   "metadata": {},
   "source": [
    "## Easy\n",
    "\n",
    "Оценить с помощью доверительных интервалов:\n",
    "- выживаемость всех пассажиров (оценить среднее по isSurvived)\n",
    "- выживаемость женщин\n",
    "- выживаемость людей с каютами первого класса"
   ]
  },
  {
   "cell_type": "code",
   "execution_count": 1,
   "metadata": {},
   "outputs": [],
   "source": [
    "import pandas as pn\n",
    "import numpy as np\n",
    "import scipy\n",
    "from scipy.stats import norm\n",
    "from scipy.stats import t"
   ]
  },
  {
   "cell_type": "markdown",
   "metadata": {},
   "source": [
    "Загрузим данные с титаника. "
   ]
  },
  {
   "cell_type": "code",
   "execution_count": 2,
   "metadata": {},
   "outputs": [],
   "source": [
    "titanic = pn.read_csv('../02_lesson/titanic/train.csv')"
   ]
  },
  {
   "cell_type": "markdown",
   "metadata": {},
   "source": [
    "Расcчитаем дисперсию признака выживаемости, а также среднюю выживаемости:"
   ]
  },
  {
   "cell_type": "code",
   "execution_count": 3,
   "metadata": {},
   "outputs": [
    {
     "name": "stdout",
     "output_type": "stream",
     "text": [
      "Дисперсия выживаемости:  0.4865924542648585\n",
      "Средняя выживаемости:  0.3838383838383838\n",
      "Количество пассажиров:  891\n"
     ]
    }
   ],
   "source": [
    "std = titanic.Survived.std()\n",
    "mean = titanic.Survived.mean()\n",
    "n = titanic.Survived.count()\n",
    "print('Дисперсия выживаемости: ', std)\n",
    "print('Средняя выживаемости: ', mean)\n",
    "print('Количество пассажиров: ', n)"
   ]
  },
  {
   "cell_type": "markdown",
   "metadata": {},
   "source": [
    "Определим функцию нахождения доверительного интервала при известной дисперсии."
   ]
  },
  {
   "cell_type": "code",
   "execution_count": 4,
   "metadata": {},
   "outputs": [],
   "source": [
    "def get_confidence_interval(mean, std, n, alpha):\n",
    "    h = norm.ppf(1 - alpha / 2) * std / np.sqrt(n)\n",
    "    return mean - h, mean + h"
   ]
  },
  {
   "cell_type": "markdown",
   "metadata": {},
   "source": [
    "Рассчитаем доверительный интервал при достоверности 0.05 (alpha=0.05)"
   ]
  },
  {
   "cell_type": "code",
   "execution_count": 5,
   "metadata": {},
   "outputs": [
    {
     "data": {
      "text/plain": [
       "(0.3518881082221273, 0.41578865945464033)"
      ]
     },
     "execution_count": 5,
     "metadata": {},
     "output_type": "execute_result"
    }
   ],
   "source": [
    "confidence_interval = get_confidence_interval(mean, std, n, 0.05)\n",
    "confidence_interval"
   ]
  },
  {
   "cell_type": "markdown",
   "metadata": {},
   "source": [
    "Ответ: вероятность выживаемости на Титанике составляет от 35% до 41% с 95% точностью."
   ]
  },
  {
   "cell_type": "markdown",
   "metadata": {},
   "source": [
    "Поробуем расчитать вероятность выживания на Титанике если бы дисперсия и среднее были бы неизвестны"
   ]
  },
  {
   "cell_type": "markdown",
   "metadata": {},
   "source": [
    "Попробуем посчитать тот же доверительный интервал выживаемости, но уже только для женщин"
   ]
  },
  {
   "cell_type": "code",
   "execution_count": 14,
   "metadata": {},
   "outputs": [
    {
     "name": "stdout",
     "output_type": "stream",
     "text": [
      "Дисперсия выживаемости:  0.43821120391621965\n",
      "Средняя выживаемости:  0.7420382165605095\n",
      "Количество пассажиров:  314\n"
     ]
    }
   ],
   "source": [
    "titanicFemale = titanic[titanic.Sex == 'female']\n",
    "std = titanicFemale.Survived.std()\n",
    "mean = titanicFemale.Survived.mean()\n",
    "n = titanicFemale.Survived.count()\n",
    "print('Дисперсия выживаемости: ', std)\n",
    "print('Средняя выживаемости: ', mean)\n",
    "print('Количество пассажиров: ', n)"
   ]
  },
  {
   "cell_type": "code",
   "execution_count": 15,
   "metadata": {},
   "outputs": [
    {
     "data": {
      "text/plain": [
       "(0.693568916951577, 0.790507516169442)"
      ]
     },
     "execution_count": 15,
     "metadata": {},
     "output_type": "execute_result"
    }
   ],
   "source": [
    "confidence_interval = get_confidence_interval(mean, std, n, 0.05)\n",
    "confidence_interval"
   ]
  },
  {
   "cell_type": "markdown",
   "metadata": {},
   "source": [
    "В 95% случаев выживаемость женщин находится в пределах от 69% до 79%\n",
    "Расчитывать по альтернативной формуле не будем."
   ]
  },
  {
   "cell_type": "markdown",
   "metadata": {},
   "source": [
    "Теперь расчитаем выживаемость для пассажиров проплывающих в каюте первого класса"
   ]
  },
  {
   "cell_type": "code",
   "execution_count": 17,
   "metadata": {},
   "outputs": [
    {
     "name": "stdout",
     "output_type": "stream",
     "text": [
      "Дисперсия выживаемости:  0.48402561132684707\n",
      "Средняя выживаемости:  0.6296296296296297\n",
      "Количество пассажиров:  216\n"
     ]
    }
   ],
   "source": [
    "titanic1c = titanic[titanic.Pclass == 1]\n",
    "std = titanic1c.Survived.std()\n",
    "mean = titanic1c.Survived.mean()\n",
    "n = titanic1c.Survived.count()\n",
    "print('Дисперсия выживаемости: ', std)\n",
    "print('Средняя выживаемости: ', mean)\n",
    "print('Количество пассажиров: ', n)"
   ]
  },
  {
   "cell_type": "code",
   "execution_count": 18,
   "metadata": {},
   "outputs": [
    {
     "data": {
      "text/plain": [
       "(0.5650806238220164, 0.6941786354372429)"
      ]
     },
     "execution_count": 18,
     "metadata": {},
     "output_type": "execute_result"
    }
   ],
   "source": [
    "confidence_interval = get_confidence_interval(mean, std, n, 0.05)\n",
    "confidence_interval"
   ]
  },
  {
   "cell_type": "markdown",
   "metadata": {},
   "source": [
    "Доверительный интервал выживаемости пассажиров первого класса составляет от 56 до 69 процентов"
   ]
  },
  {
   "cell_type": "markdown",
   "metadata": {},
   "source": [
    "## Normal\n",
    "\n",
    "- Проверить гипотезу о том, что женщины выживают чаще мужчин с уровнем значимости 0.05\n",
    "- Проверить гипотезу о том, что дети выживают чаще, чем взрослые"
   ]
  },
  {
   "cell_type": "markdown",
   "metadata": {},
   "source": [
    "Для проверки гипотезы будем использовать критерий Стьюдента, для оценки средних двух выборок. В качестве выборки возьмем фактор выживаемости. Если средняя выживаемость женщин будет значимо отличатся от средней выживаемости мужчин, значит наша гипотеза верна. Критерий Стьюдента в качестве нулевой гипотезы использует предположение о том, что выборки равны. Таким образом, наша гипотеза является альтернативной, и для ее подтверждения нам необходимо выполнить тест с результатом достоверности p-value меньше 0.05 (среднее двух выборок равно с низкой степенью достоверности)"
   ]
  },
  {
   "cell_type": "code",
   "execution_count": 8,
   "metadata": {},
   "outputs": [
    {
     "name": "stdout",
     "output_type": "stream",
     "text": [
      "Альтернативная гипотеза верна, p_value:  7.030330654401297e-70  Средняя выживаемости мужчин меньше средней выживаемости женщин\n"
     ]
    }
   ],
   "source": [
    "male = titanic[titanic.Sex == 'male']\n",
    "female = titanic[titanic.Sex == 'female']\n",
    "x, p_value = scipy.stats.ttest_ind(male.Survived.array, female.Survived.array, alternative = 'less')\n",
    "\n",
    "if p_value < 0.05:\n",
    "    print('Альтернативная гипотеза верна, p_value: ', p_value, ' Средняя выживаемости мужчин меньше средней выживаемости женщин')\n",
    "else:\n",
    "    print('Основная гипотеза верна, p_value: ', p_value, ' Средние выживаемости  с большой долей вероятностью равны')"
   ]
  },
  {
   "cell_type": "markdown",
   "metadata": {},
   "source": [
    "Сделаем ручной расчет. Переведем двухсторонюю гипотезу в односторонюю"
   ]
  },
  {
   "cell_type": "code",
   "execution_count": 21,
   "metadata": {},
   "outputs": [
    {
     "name": "stdout",
     "output_type": "stream",
     "text": [
      "Альтернативная гипотеза верна, p_value:  7.030330654401297e-70  Средняя выживаемости мужчин меньше средней выживаемости женщин\n"
     ]
    }
   ],
   "source": [
    "male = titanic[titanic.Sex == 'male']\n",
    "female = titanic[titanic.Sex == 'female']\n",
    "x, p_value = scipy.stats.ttest_ind(male.Survived.array, female.Survived.array)\n",
    "# просто делим на два\n",
    "p_value = p_value / 2.0\n",
    "if p_value < 0.05:\n",
    "    print('Альтернативная гипотеза верна, p_value: ', p_value, ' Средняя выживаемости мужчин меньше средней выживаемости женщин')\n",
    "else:\n",
    "    print('Основная гипотеза верна, p_value: ', p_value, ' Средние выживаемости  с большой долей вероятностью равны')"
   ]
  },
  {
   "cell_type": "markdown",
   "metadata": {},
   "source": [
    "Значения p_value оказались равными."
   ]
  },
  {
   "cell_type": "markdown",
   "metadata": {},
   "source": [
    "Теперь проверим гипотезу о том, что выживаемость детей выши выживаемости взрослых"
   ]
  },
  {
   "cell_type": "code",
   "execution_count": 27,
   "metadata": {},
   "outputs": [
    {
     "name": "stdout",
     "output_type": "stream",
     "text": [
      "Альтернативная гипотеза верна, p_value:  0.0007919436725484551  Средняя выживаемости детей выше средней выживаемости взрослых\n"
     ]
    }
   ],
   "source": [
    "young = titanic[titanic.Age < 18]\n",
    "adult = titanic[titanic.Age >= 18]\n",
    "x, p_value = scipy.stats.ttest_ind(young.Survived.array, adult.Survived.array)\n",
    "# просто делим на два\n",
    "p_value = p_value / 2.0\n",
    "if p_value < 0.05:\n",
    "    print('Альтернативная гипотеза верна, p_value: ', p_value, ' Средняя выживаемости детей выше средней выживаемости взрослых')\n",
    "else:\n",
    "    print('Основная гипотеза верна, p_value: ', p_value, ' Средние выживаемости  с большой долей вероятностью равны')"
   ]
  },
  {
   "cell_type": "markdown",
   "metadata": {},
   "source": [
    "Хотя альтернативная гипотеза в отношении детей равна, и их выживаемость выше выживаемости взрослых, тем не менее, значение p_value ближе к критической отметки 0.05 чем p_value выборок выживаемости женщин против мужчин. Таким образом можно сказать, что большее влияние на выживаемость оказывает пол пассажира, а не его возраст."
   ]
  }
 ],
 "metadata": {
  "interpreter": {
   "hash": "7b08bf3cd01773cc2551ad6fc56132757b541253642b9416b0d416138fe266f0"
  },
  "kernelspec": {
   "display_name": "Python 3.9.7 64-bit ('data-scine-class': conda)",
   "name": "python3"
  },
  "language_info": {
   "codemirror_mode": {
    "name": "ipython",
    "version": 3
   },
   "file_extension": ".py",
   "mimetype": "text/x-python",
   "name": "python",
   "nbconvert_exporter": "python",
   "pygments_lexer": "ipython3",
   "version": "3.9.7"
  },
  "orig_nbformat": 4
 },
 "nbformat": 4,
 "nbformat_minor": 2
}
