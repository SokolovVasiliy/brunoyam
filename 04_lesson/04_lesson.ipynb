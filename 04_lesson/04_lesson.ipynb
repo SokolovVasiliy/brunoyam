{
 "cells": [
  {
   "cell_type": "code",
   "execution_count": 1,
   "metadata": {},
   "outputs": [],
   "source": [
    "import pandas as pd \n",
    "titanic = pd.read_csv('../02_lesson/titanic/train.csv')"
   ]
  },
  {
   "cell_type": "markdown",
   "metadata": {},
   "source": [
    "## Решение Lite"
   ]
  },
  {
   "cell_type": "markdown",
   "metadata": {},
   "source": [
    "Разобьем пассажиров по группам:\n",
    "- мололые (до 25 лет)\n",
    "- взрослые (от 25 до 50 лет)\n",
    "- старые (старше 50 лет)\n",
    "\n",
    "Для этих целей напишем функцию, фильтрующую таблицу пассажиров по их возрастам:"
   ]
  },
  {
   "cell_type": "code",
   "execution_count": 2,
   "metadata": {},
   "outputs": [],
   "source": [
    "def getAgePassanger(titanic, min_years = 0, max_years = 150):\n",
    "    return titanic[(titanic.Age >= min_years) & (titanic.Age < max_years)]"
   ]
  },
  {
   "cell_type": "code",
   "execution_count": 3,
   "metadata": {},
   "outputs": [],
   "source": [
    "total_passangers = titanic.PassengerId.count()\n",
    "youngPassangers = titanic[titanic.Age < 25]\n",
    "adultPassangers = titanic[(titanic.Age >= 25) & (titanic.Age < 50)]\n",
    "oldPassangers = titanic[titanic.Age >= 50]"
   ]
  },
  {
   "cell_type": "markdown",
   "metadata": {},
   "source": [
    "Напишем функцию, расчитывающую процент выживаемости для пассажиров титаника.\n",
    "На вход функция принимает любую таблицу формата титаник"
   ]
  },
  {
   "cell_type": "code",
   "execution_count": 30,
   "metadata": {},
   "outputs": [],
   "source": [
    "def getSurvPassByAge(titanicTable):\n",
    "    p = titanicTable[titanicTable.Survived == 1].PassengerId.count() / titanicTable.PassengerId.count()\n",
    "    return p"
   ]
  },
  {
   "cell_type": "markdown",
   "metadata": {},
   "source": [
    "Расчитаем процент выживаемости для каждой группы пассажиров титаника, используя обобщенную функцию survivedTitanic и функцию извлечения пассажиров с нужным диапазоном возрастов. Процент выживаемости будет означать вероятность выживаемости пассажира в долях от единицы, в зависимости от группы его пользователя:"
   ]
  },
  {
   "cell_type": "code",
   "execution_count": 31,
   "metadata": {},
   "outputs": [
    {
     "data": {
      "text/html": [
       "<div>\n",
       "<style scoped>\n",
       "    .dataframe tbody tr th:only-of-type {\n",
       "        vertical-align: middle;\n",
       "    }\n",
       "\n",
       "    .dataframe tbody tr th {\n",
       "        vertical-align: top;\n",
       "    }\n",
       "\n",
       "    .dataframe thead th {\n",
       "        text-align: right;\n",
       "    }\n",
       "</style>\n",
       "<table border=\"1\" class=\"dataframe\">\n",
       "  <thead>\n",
       "    <tr style=\"text-align: right;\">\n",
       "      <th></th>\n",
       "      <th>0</th>\n",
       "      <th>SurivedPer</th>\n",
       "    </tr>\n",
       "  </thead>\n",
       "  <tbody>\n",
       "    <tr>\n",
       "      <th>0</th>\n",
       "      <td>young</td>\n",
       "      <td>0.424460</td>\n",
       "    </tr>\n",
       "    <tr>\n",
       "      <th>1</th>\n",
       "      <td>adult</td>\n",
       "      <td>0.400552</td>\n",
       "    </tr>\n",
       "    <tr>\n",
       "      <th>2</th>\n",
       "      <td>old</td>\n",
       "      <td>0.364865</td>\n",
       "    </tr>\n",
       "  </tbody>\n",
       "</table>\n",
       "</div>"
      ],
      "text/plain": [
       "       0  SurivedPer\n",
       "0  young    0.424460\n",
       "1  adult    0.400552\n",
       "2    old    0.364865"
      ]
     },
     "execution_count": 31,
     "metadata": {},
     "output_type": "execute_result"
    }
   ],
   "source": [
    "survivedYoung = getSurvPassByAge(getAgePassanger(titanic, max_years = 25))\n",
    "survivedAdult = getSurvPassByAge(getAgePassanger(titanic, 25, 50))\n",
    "oldPassangers = getSurvPassByAge(getAgePassanger(titanic, min_years=50))\n",
    "ser = pd.Series({'young' : survivedYoung, 'adult' : survivedAdult})\n",
    "summary = pd.DataFrame(['young', 'adult', 'old'])\n",
    "summary['SurivedPer'] = pd.Series([survivedYoung, survivedAdult, oldPassangers])\n",
    "summary"
   ]
  },
  {
   "cell_type": "markdown",
   "metadata": {},
   "source": [
    "Вероятность выживания пассажира в зависимости от его возраста обратная - чем старше, тем вероятность ниже. Однако вероятность слабая."
   ]
  },
  {
   "cell_type": "markdown",
   "metadata": {},
   "source": [
    "## Решение Medium"
   ]
  },
  {
   "cell_type": "markdown",
   "metadata": {},
   "source": [
    "**Задача:** Вычислить с какой вероятностью пассажир женского пола, если известно, что он выжил (использовать теорему Байеса)\n",
    "\n",
    "Определим вероятности $B_1$ и $B_2$:\n",
    "\n",
    "$P(B_1$) - Доля женщин на борту от общего числа пассажиров (вероятность что пассажир будет женщиной)\n",
    "\n",
    "$P(B_2)$ - Доля мужчин на борту от общего числа пассажиров (вероятность что пассажир будет мужчиной)"
   ]
  },
  {
   "cell_type": "code",
   "execution_count": 66,
   "metadata": {},
   "outputs": [
    {
     "data": {
      "text/html": [
       "<div>\n",
       "<style scoped>\n",
       "    .dataframe tbody tr th:only-of-type {\n",
       "        vertical-align: middle;\n",
       "    }\n",
       "\n",
       "    .dataframe tbody tr th {\n",
       "        vertical-align: top;\n",
       "    }\n",
       "\n",
       "    .dataframe thead th {\n",
       "        text-align: right;\n",
       "    }\n",
       "</style>\n",
       "<table border=\"1\" class=\"dataframe\">\n",
       "  <thead>\n",
       "    <tr style=\"text-align: right;\">\n",
       "      <th></th>\n",
       "      <th>Вероятность пола</th>\n",
       "    </tr>\n",
       "  </thead>\n",
       "  <tbody>\n",
       "    <tr>\n",
       "      <th>Female (B1)</th>\n",
       "      <td>0.352413</td>\n",
       "    </tr>\n",
       "    <tr>\n",
       "      <th>Male (B2)</th>\n",
       "      <td>0.647587</td>\n",
       "    </tr>\n",
       "  </tbody>\n",
       "</table>\n",
       "</div>"
      ],
      "text/plain": [
       "             Вероятность пола\n",
       "Female (B1)          0.352413\n",
       "Male (B2)            0.647587"
      ]
     },
     "execution_count": 66,
     "metadata": {},
     "output_type": "execute_result"
    }
   ],
   "source": [
    "passengersCount = titanic.PassengerId.count()\n",
    "B1 = titanic[titanic.Sex == 'female'].PassengerId.count()/passengersCount\n",
    "B2 = titanic[titanic.Sex == 'male'].PassengerId.count()/passengersCount\n",
    "p = {'Вероятность пола' : pd.Series([B1, B2], index=[\"Female (B1)\", \"Male (B2)\"])}\n",
    "frame = pd.DataFrame(p)\n",
    "frame"
   ]
  },
  {
   "cell_type": "markdown",
   "metadata": {},
   "source": [
    "Определим событие $A$ как выживаемость пассажира не зависимо от его пола (если пассажир выжил - происходит событие $A$)\n",
    "\n",
    "Определим вероятности выживаемости пассажиров для каждого пола:\n",
    "\n",
    "$P(A|B_1)$ - для женщин \n",
    "\n",
    "$P(A|B_2)$ - для мужчин "
   ]
  },
  {
   "cell_type": "code",
   "execution_count": 64,
   "metadata": {},
   "outputs": [
    {
     "data": {
      "text/html": [
       "<div>\n",
       "<style scoped>\n",
       "    .dataframe tbody tr th:only-of-type {\n",
       "        vertical-align: middle;\n",
       "    }\n",
       "\n",
       "    .dataframe tbody tr th {\n",
       "        vertical-align: top;\n",
       "    }\n",
       "\n",
       "    .dataframe thead th {\n",
       "        text-align: right;\n",
       "    }\n",
       "</style>\n",
       "<table border=\"1\" class=\"dataframe\">\n",
       "  <thead>\n",
       "    <tr style=\"text-align: right;\">\n",
       "      <th></th>\n",
       "      <th>Вероятность выживаемости</th>\n",
       "    </tr>\n",
       "  </thead>\n",
       "  <tbody>\n",
       "    <tr>\n",
       "      <th>Female</th>\n",
       "      <td>0.742038</td>\n",
       "    </tr>\n",
       "    <tr>\n",
       "      <th>Male</th>\n",
       "      <td>0.188908</td>\n",
       "    </tr>\n",
       "  </tbody>\n",
       "</table>\n",
       "</div>"
      ],
      "text/plain": [
       "        Вероятность выживаемости\n",
       "Female                  0.742038\n",
       "Male                    0.188908"
      ]
     },
     "execution_count": 64,
     "metadata": {},
     "output_type": "execute_result"
    }
   ],
   "source": [
    "titanicFemale = titanic[titanic.Sex == 'female']\n",
    "titanicMale = titanic[titanic.Sex == 'male']\n",
    "AB1 = titanicFemale[titanicFemale.Survived == 1].PassengerId.count() / titanicFemale.PassengerId.count()\n",
    "AB2 = titanicMale[titanicMale.Survived == 1].PassengerId.count() / titanicMale.PassengerId.count()\n",
    "p = {'Вероятность выживаемости' : pd.Series([AB1, AB2], index=[\"Female\", \"Male\"])}\n",
    "frame = pd.DataFrame(p)\n",
    "frame"
   ]
  },
  {
   "cell_type": "markdown",
   "metadata": {},
   "source": [
    "Запишем формулу полной вероятности для события A:\n",
    "$$P(A) = P(B_1)P(A|B_1) + P(B_2)P(A|B_2)$$\n",
    "Расчитаем вероятность события $A$ согласно полученной формуле:"
   ]
  },
  {
   "cell_type": "code",
   "execution_count": 67,
   "metadata": {},
   "outputs": [
    {
     "data": {
      "text/plain": [
       "0.3838383838383838"
      ]
     },
     "execution_count": 67,
     "metadata": {},
     "output_type": "execute_result"
    }
   ],
   "source": [
    "PA = B1 * AB1 + B2 * AB2\n",
    "PA"
   ]
  },
  {
   "cell_type": "code",
   "execution_count": 28,
   "metadata": {},
   "outputs": [
    {
     "name": "stdout",
     "output_type": "stream",
     "text": [
      "Вероятность события A: 0.35\n"
     ]
    }
   ],
   "source": [
    "femaleCount = titanic[titanic.Sex == 'female'].PassengerId.count()\n",
    "probA = femaleCount / total_passangers\n",
    "print('Вероятность события A:', round(probA, 2))"
   ]
  },
  {
   "cell_type": "markdown",
   "metadata": {},
   "source": [
    "Определим формулу байеса для события B если произошло событие A:\n",
    "$$P(B_1|A) = \\frac{P(B_1|A)P(B_1)}{P(A)}$$\n",
    "Расчитаем вероятность наступления события $B_1$ исходя из формулы:"
   ]
  },
  {
   "cell_type": "code",
   "execution_count": 69,
   "metadata": {},
   "outputs": [
    {
     "data": {
      "text/plain": [
       "0.6812865497076023"
      ]
     },
     "execution_count": 69,
     "metadata": {},
     "output_type": "execute_result"
    }
   ],
   "source": [
    "(AB1 * B1) / PA"
   ]
  },
  {
   "cell_type": "markdown",
   "metadata": {},
   "source": [
    "### **Ответ:** _Если пассажир выжил, вероятность того, что он женского пола составляет_ **68%**"
   ]
  },
  {
   "cell_type": "markdown",
   "metadata": {},
   "source": [
    "### **Проверка** Выполним проверку получившейся вероятности. Расчитаем процент женщин, из числа выживших. Он должен совпадать с вероятностью выживания рассчитаной по формуле Байеса:"
   ]
  },
  {
   "cell_type": "code",
   "execution_count": 72,
   "metadata": {},
   "outputs": [
    {
     "data": {
      "text/plain": [
       "0.6812865497076024"
      ]
     },
     "execution_count": 72,
     "metadata": {},
     "output_type": "execute_result"
    }
   ],
   "source": [
    "titanicSurvived = titanic[titanic.Survived == 1]\n",
    "titanicSurvived[titanicSurvived.Sex == 'female'].PassengerId.count() / titanicSurvived.PassengerId.count()"
   ]
  },
  {
   "cell_type": "markdown",
   "metadata": {},
   "source": [
    "Процент выживших женщин совпадает в обоих моделях. Расчет верен."
   ]
  }
 ],
 "metadata": {
  "interpreter": {
   "hash": "7b08bf3cd01773cc2551ad6fc56132757b541253642b9416b0d416138fe266f0"
  },
  "kernelspec": {
   "display_name": "Python 3.9.7 64-bit ('data-scine-class': conda)",
   "name": "python3"
  },
  "language_info": {
   "codemirror_mode": {
    "name": "ipython",
    "version": 3
   },
   "file_extension": ".py",
   "mimetype": "text/x-python",
   "name": "python",
   "nbconvert_exporter": "python",
   "pygments_lexer": "ipython3",
   "version": "3.9.7"
  },
  "orig_nbformat": 4
 },
 "nbformat": 4,
 "nbformat_minor": 2
}
